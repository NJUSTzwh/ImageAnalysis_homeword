{
 "cells": [
  {
   "cell_type": "markdown",
   "metadata": {},
   "source": [
    "### 何凯明去雾算法复现"
   ]
  },
  {
   "cell_type": "code",
   "execution_count": 4,
   "metadata": {},
   "outputs": [],
   "source": [
    "import cv2\n",
    "import numpy as np\n",
    "import matplotlib.pyplot as plt"
   ]
  },
  {
   "cell_type": "code",
   "execution_count": 5,
   "metadata": {},
   "outputs": [],
   "source": [
    "def MinFilterGray(src, r=7):\n",
    "    return cv2.erode(src, np.ones((2*r+1, 2*r+1)))                  \n",
    "def guidedfilter(I, p, r, eps):\n",
    "    height, width = I.shape\n",
    "    m_I = cv2.boxFilter(I, -1, (r,r))\n",
    "    m_p = cv2.boxFilter(p, -1, (r,r))\n",
    "    m_Ip = cv2.boxFilter(I*p, -1, (r,r))\n",
    "    cov_Ip = m_Ip-m_I*m_p\n",
    "  \n",
    "    m_II = cv2.boxFilter(I*I, -1, (r,r))\n",
    "    var_I = m_II-m_I*m_I\n",
    "  \n",
    "    a = cov_Ip/(var_I+eps)\n",
    "    b = m_p-a*m_I\n",
    "  \n",
    "    m_a = cv2.boxFilter(a, -1, (r,r))\n",
    "    m_b = cv2.boxFilter(b, -1, (r,r))\n",
    "    return m_a*I+m_b\n",
    "  \n",
    "def getV1(m, r, eps, w, maxV1):  #输入rgb图像，值范围[0,1]\n",
    "    '''计算大气遮罩图像V1和光照值A, V1 = 1-t/A'''\n",
    "    V1 = np.min(m,2)                                         #得到暗通道图像\n",
    "    V1 = guidedfilter(V1, MinFilterGray(V1,7), r, eps)     #使用引导滤波优化\n",
    "    bins = 2000\n",
    "    ht = np.histogram(V1, bins)                              #计算大气光照A\n",
    "    d = np.cumsum(ht[0])/float(V1.size)\n",
    "    for lmax in range(bins-1, 0, -1):\n",
    "        if d[lmax]<=0.999:\n",
    "            break\n",
    "    A  = np.mean(m,2)[V1>=ht[1][lmax]].max()\n",
    "          \n",
    "    V1 = np.minimum(V1*w, maxV1)                   #对值范围进行限制\n",
    "      \n",
    "    return V1,A\n",
    "  \n",
    "def deHaze(m, r=81, eps=0.001, w=0.95, maxV1=0.80, bGamma=False):\n",
    "    Y = np.zeros(m.shape)\n",
    "    V1,A = getV1(m, r, eps, w, maxV1)               #得到遮罩图像和大气光照\n",
    "    for k in range(3):\n",
    "        Y[:,:,k] = (m[:,:,k]-V1)/(1-V1/A)           #颜色校正\n",
    "    Y =  np.clip(Y, 0, 1)\n",
    "    if bGamma:\n",
    "        Y = Y**(np.log(0.5)/np.log(Y.mean()))       #gamma校正,默认不进行该操作\n",
    "    return Y"
   ]
  },
  {
   "cell_type": "code",
   "execution_count": 6,
   "metadata": {},
   "outputs": [
    {
     "data": {
      "text/plain": [
       "True"
      ]
     },
     "execution_count": 6,
     "metadata": {},
     "output_type": "execute_result"
    }
   ],
   "source": [
    "rmfogImg = deHaze(cv2.imread('1.jpg')/255.0)*255\n",
    "cv2.imwrite('1_rmfog.jpg', rmfogImg)\n",
    "#可视化：\n",
    "# plt.figure(figsize=(160,60))\n",
    "# plt.subplot(161), plt.imshow(srcImg)    #原图\n",
    "# plt.subplot(162), plt.imshow(rmfogImg)    #去雾图像\n",
    "# plt.show()"
   ]
  }
 ],
 "metadata": {
  "kernelspec": {
   "display_name": "Python 3.7.12 ('ImageAnalysis')",
   "language": "python",
   "name": "python3"
  },
  "language_info": {
   "codemirror_mode": {
    "name": "ipython",
    "version": 3
   },
   "file_extension": ".py",
   "mimetype": "text/x-python",
   "name": "python",
   "nbconvert_exporter": "python",
   "pygments_lexer": "ipython3",
   "version": "3.7.12"
  },
  "orig_nbformat": 4,
  "vscode": {
   "interpreter": {
    "hash": "6f5d98419b99ab8f6bc41fe75fdef67c2441d80de4e8025511e26881eee00aab"
   }
  }
 },
 "nbformat": 4,
 "nbformat_minor": 2
}
