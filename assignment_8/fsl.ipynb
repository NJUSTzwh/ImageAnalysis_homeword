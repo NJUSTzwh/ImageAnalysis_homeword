{
 "cells": [
  {
   "cell_type": "code",
   "execution_count": 19,
   "metadata": {},
   "outputs": [],
   "source": [
    "import cv2 as cv\n",
    "import numpy as np\n",
    "from matplotlib import pyplot as plt"
   ]
  },
  {
   "cell_type": "code",
   "execution_count": 20,
   "metadata": {},
   "outputs": [],
   "source": [
    "def watershed_algorithm(image):\n",
    "    # 边缘保留滤波EPF  去噪\n",
    "    blur = cv.pyrMeanShiftFiltering(image,sp=10,sr=100)\n",
    "    # 转成灰度图像\n",
    "    gray = cv.cvtColor(blur, cv.COLOR_BGR2GRAY)\n",
    "    # 得到二值图像   自适应阈值\n",
    "    ret, binary = cv.threshold(gray, 0, 255, cv.THRESH_BINARY | cv.THRESH_OTSU)\n",
    "    cv.imshow('binary image', binary)\n",
    "\n",
    "    # 形态学操作   获取结构元素  开操作\n",
    "    kernel = cv.getStructuringElement(cv.MORPH_RECT, (3, 3))\n",
    "    opening = cv.morphologyEx(binary, cv.MORPH_OPEN, kernel=kernel, iterations=2)\n",
    "    # 确定区域\n",
    "    sure_bg = cv.dilate(opening, kernel, iterations=3)\n",
    "    # cv.imshow('mor-opt', sure_bg)\n",
    "\n",
    "    # 距离变换\n",
    "    dist = cv.distanceTransform(opening, cv.DIST_L2, 3)\n",
    "    dist_out = cv.normalize(dist, 0, 1.0, cv.NORM_MINMAX)\n",
    "    # cv.imshow('distance-', dist_out * 50)\n",
    "    ret, surface = cv.threshold(dist_out, dist_out.max() * 0.6, 255, cv.THRESH_BINARY)\n",
    "    # cv.imshow('surface-markers', surface)\n",
    "\n",
    "    surface_fg = np.uint8(surface)    # 转成8位整型\n",
    "    unkonown = cv.subtract(sure_bg, surface_fg)        # 找到位置区域\n",
    "    # Marker labelling\n",
    "    ret, markers = cv.connectedComponents(surface_fg)  # 连通区域\n",
    "    print(ret)\n",
    "\n",
    "    # 分水岭变换\n",
    "    # Add one to all labels so that sure background is not 0, but 1\n",
    "    markers = markers + 1\n",
    "    # Now, mark the region of unknown with zero\n",
    "    markers[unkonown == 255] = 0\n",
    "    # 实施分水岭算法了。标签图像将会被修改，边界区域的标记将变为 -1\n",
    "    markers = cv.watershed(image, markers=markers)\n",
    "    image[markers == -1] = [0, 0, 255]      # 被标记的区域   设为红色\n",
    "    cv.imshow('result', image)"
   ]
  },
  {
   "cell_type": "code",
   "execution_count": 21,
   "metadata": {},
   "outputs": [
    {
     "name": "stdout",
     "output_type": "stream",
     "text": [
      "12\n"
     ]
    }
   ],
   "source": [
    "src = cv.imread(r'1.PNG')\n",
    "src = cv.resize(src, None, fx=0.5, fy=0.5)\n",
    "cv.imshow('input image', src)\n",
    "watershed_algorithm(src)\n",
    "cv.waitKey(1000)\n",
    "cv.destroyAllWindows()"
   ]
  }
 ],
 "metadata": {
  "kernelspec": {
   "display_name": "Python 3.7.12 ('ImageAnalysis')",
   "language": "python",
   "name": "python3"
  },
  "language_info": {
   "codemirror_mode": {
    "name": "ipython",
    "version": 3
   },
   "file_extension": ".py",
   "mimetype": "text/x-python",
   "name": "python",
   "nbconvert_exporter": "python",
   "pygments_lexer": "ipython3",
   "version": "3.7.12"
  },
  "orig_nbformat": 4,
  "vscode": {
   "interpreter": {
    "hash": "6f5d98419b99ab8f6bc41fe75fdef67c2441d80de4e8025511e26881eee00aab"
   }
  }
 },
 "nbformat": 4,
 "nbformat_minor": 2
}
